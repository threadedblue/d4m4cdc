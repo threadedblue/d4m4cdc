{
 "cells": [
  {
   "cell_type": "code",
   "execution_count": 3,
   "metadata": {},
   "outputs": [],
   "source": [
    "using D4M, DataFrames, StatsBase, AAUtils\n",
    "ENV[\"LINES\"] = 600\n",
    "ENV[\"COLUMNS\"] = 500\n",
    "IJulia.set_max_stdio(1 << 20)\n",
    ";"
   ]
  },
  {
   "cell_type": "code",
   "execution_count": null,
   "metadata": {},
   "outputs": [],
   "source": [
    "T = TcdIt[:,StartsWith(\"Encounters,\")]\n",
    "aa2df(T)"
   ]
  },
  {
   "cell_type": "code",
   "execution_count": 8,
   "metadata": {},
   "outputs": [
    {
     "data": {
      "text/plain": [
       "Dict{SubString{String},Int64} with 17 entries:\n",
       "  \"Immunizations.Material.Title:Td (adult) preservative free\"                       => 3\n",
       "  \"Immunizations.Material.CE:Pneumococcal conjugate PCV 13\"                         => 1\n",
       "  \"Immunizations.Material.Title:Influenza, seasonal, injectable, preservative free\" => 3\n",
       "  \"Immunizations.Material.CE:33\"                                                    => 1\n",
       "  \"Immunizations.Material.CE:140\"                                                   => 3\n",
       "  \"Immunizations.SubstanceAdministration.CD:IMMUNIZ\"                                => 3\n",
       "  \"Immunizations.Material.Title:pneumococcal polysaccharide vaccine, 23 valent\"     => 1\n",
       "  \"Immunizations.Material.Title:Pneumococcal conjugate PCV 13\"                      => 1\n",
       "  \"Immunizations.Material.CE:Influenza, seasonal, injectable, preservative free\"    => 3\n",
       "  \"Immunizations.Material.CE:113\"                                                   => 3\n",
       "  \"Immunizations.Material.CE:pneumococcal polysaccharide vaccine, 23 valent\"        => 1\n",
       "  \"Immunizations.Material.CE:zoster\"                                                => 1\n",
       "  \"Immunizations.SubstanceAdministration.CD:ActCode\"                                => 3\n",
       "  \"Immunizations.Material.Title:zoster\"                                             => 1\n",
       "  \"Immunizations.Material.CE:121\"                                                   => 1\n",
       "  \"Immunizations.Material.CE:133\"                                                   => 1\n",
       "  \"Immunizations.Material.CE:Td (adult) preservative free\"                          => 3"
      ]
     },
     "execution_count": 8,
     "metadata": {},
     "output_type": "execute_result"
    }
   ],
   "source": [
    "r,c,v = find(T)\n",
    "countmap(c)"
   ]
  },
  {
   "cell_type": "code",
   "execution_count": null,
   "metadata": {},
   "outputs": [],
   "source": []
  }
 ],
 "metadata": {
  "kernelspec": {
   "display_name": "Julia 1.5.2",
   "language": "julia",
   "name": "julia-1.5"
  },
  "language_info": {
   "file_extension": ".jl",
   "mimetype": "application/julia",
   "name": "julia",
   "version": "1.5.2"
  }
 },
 "nbformat": 4,
 "nbformat_minor": 4
}
