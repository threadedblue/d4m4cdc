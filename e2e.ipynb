{
 "cells": [
  {
   "cell_type": "code",
   "execution_count": 4,
   "metadata": {},
   "outputs": [
    {
     "name": "stderr",
     "output_type": "stream",
     "text": [
      "┌ Info: Precompiling D4M [top-level]\n",
      "└ @ Base loading.jl:1278\n",
      "[ Info: here\n"
     ]
    },
    {
     "ename": "LoadError",
     "evalue": "LoadError: UndefVarError: dbsetup not defined\nin expression starting at /Users/geoffryroberts/cdcWk/cda2d4m/unoDBSetup.jl:7",
     "output_type": "error",
     "traceback": [
      "LoadError: UndefVarError: dbsetup not defined\nin expression starting at /Users/geoffryroberts/cdcWk/cda2d4m/unoDBSetup.jl:7",
      "",
      "Stacktrace:",
      " [1] getproperty(::Module, ::Symbol) at ./Base.jl:26",
      " [2] top-level scope at /Users/geoffryroberts/cdcWk/cda2d4m/unoDBSetup.jl:7",
      " [3] include(::String) at ./client.jl:457",
      " [4] top-level scope at In[4]:9",
      " [5] include_string(::Function, ::Module, ::String, ::String) at ./loading.jl:1091",
      " [6] execute_code(::String, ::String) at /Users/geoffryroberts/.julia/packages/IJulia/a1SNk/src/execute_request.jl:27",
      " [7] execute_request(::ZMQ.Socket, ::IJulia.Msg) at /Users/geoffryroberts/.julia/packages/IJulia/a1SNk/src/execute_request.jl:86",
      " [8] #invokelatest#1 at ./essentials.jl:710 [inlined]",
      " [9] invokelatest at ./essentials.jl:709 [inlined]",
      " [10] eventloop(::ZMQ.Socket) at /Users/geoffryroberts/.julia/packages/IJulia/a1SNk/src/eventloop.jl:8",
      " [11] (::IJulia.var\"#15#18\")() at ./task.jl:356"
     ]
    }
   ],
   "source": [
    "using JLD, D4M, DataFrames, StatsBase, AAUtils\n",
    "ENV[\"JAVA_HOME\"] = \"/Library/Java/JavaVirtualMachines/openjdk-13.jdk/Contents/Home\"\n",
    "ENV[\"JULIA_COPY_STACKS\"] = 1\n",
    "ENV[\"LINES\"] = 600\n",
    "ENV[\"COLUMNS\"] = 500\n",
    "IJulia.set_max_stdio(1 << 20)\n",
    "D4Mpkg = Base.PkgId(\"D4M\"); \n",
    "Base.compilecache(D4Mpkg)\n",
    "include(\"./unoDBSetup.jl\")\n",
    ";"
   ]
  },
  {
   "cell_type": "code",
   "execution_count": 1,
   "metadata": {},
   "outputs": [
    {
     "ename": "LoadError",
     "evalue": "UndefVarError: StartsWith not defined",
     "output_type": "error",
     "traceback": [
      "UndefVarError: StartsWith not defined",
      "",
      "Stacktrace:",
      " [1] top-level scope at In[1]:1",
      " [2] include_string(::Function, ::Module, ::String, ::String) at ./loading.jl:1091",
      " [3] execute_code(::String, ::String) at /Users/geoffryroberts/.julia/packages/IJulia/a1SNk/src/execute_request.jl:27",
      " [4] execute_request(::ZMQ.Socket, ::IJulia.Msg) at /Users/geoffryroberts/.julia/packages/IJulia/a1SNk/src/execute_request.jl:86",
      " [5] #invokelatest#1 at ./essentials.jl:710 [inlined]",
      " [6] invokelatest at ./essentials.jl:709 [inlined]",
      " [7] eventloop(::ZMQ.Socket) at /Users/geoffryroberts/.julia/packages/IJulia/a1SNk/src/eventloop.jl:8",
      " [8] (::IJulia.var\"#15#18\")() at ./task.jl:356"
     ]
    }
   ],
   "source": [
    "T = TcdIt[:,StartsWith(\"Encounters,\")]\n",
    "aa2df(T)"
   ]
  },
  {
   "cell_type": "code",
   "execution_count": 8,
   "metadata": {},
   "outputs": [
    {
     "data": {
      "text/plain": [
       "Dict{SubString{String},Int64} with 17 entries:\n",
       "  \"Immunizations.Material.Title:Td (adult) preservative free\"                       => 3\n",
       "  \"Immunizations.Material.CE:Pneumococcal conjugate PCV 13\"                         => 1\n",
       "  \"Immunizations.Material.Title:Influenza, seasonal, injectable, preservative free\" => 3\n",
       "  \"Immunizations.Material.CE:33\"                                                    => 1\n",
       "  \"Immunizations.Material.CE:140\"                                                   => 3\n",
       "  \"Immunizations.SubstanceAdministration.CD:IMMUNIZ\"                                => 3\n",
       "  \"Immunizations.Material.Title:pneumococcal polysaccharide vaccine, 23 valent\"     => 1\n",
       "  \"Immunizations.Material.Title:Pneumococcal conjugate PCV 13\"                      => 1\n",
       "  \"Immunizations.Material.CE:Influenza, seasonal, injectable, preservative free\"    => 3\n",
       "  \"Immunizations.Material.CE:113\"                                                   => 3\n",
       "  \"Immunizations.Material.CE:pneumococcal polysaccharide vaccine, 23 valent\"        => 1\n",
       "  \"Immunizations.Material.CE:zoster\"                                                => 1\n",
       "  \"Immunizations.SubstanceAdministration.CD:ActCode\"                                => 3\n",
       "  \"Immunizations.Material.Title:zoster\"                                             => 1\n",
       "  \"Immunizations.Material.CE:121\"                                                   => 1\n",
       "  \"Immunizations.Material.CE:133\"                                                   => 1\n",
       "  \"Immunizations.Material.CE:Td (adult) preservative free\"                          => 3"
      ]
     },
     "execution_count": 8,
     "metadata": {},
     "output_type": "execute_result"
    }
   ],
   "source": [
    "r,c,v = find(T)\n",
    "countmap(c)"
   ]
  },
  {
   "cell_type": "code",
   "execution_count": null,
   "metadata": {},
   "outputs": [],
   "source": []
  }
 ],
 "metadata": {
  "kernelspec": {
   "display_name": "Julia 1.5.2",
   "language": "julia",
   "name": "julia-1.5"
  },
  "language_info": {
   "file_extension": ".jl",
   "mimetype": "application/julia",
   "name": "julia",
   "version": "1.5.2"
  }
 },
 "nbformat": 4,
 "nbformat_minor": 4
}
