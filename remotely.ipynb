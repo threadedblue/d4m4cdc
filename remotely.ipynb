{
 "cells": [
  {
   "cell_type": "code",
   "execution_count": 8,
   "metadata": {},
   "outputs": [
    {
     "name": "stdout",
     "output_type": "stream",
     "text": [
      "start==>\n"
     ]
    }
   ],
   "source": [
    "println(\"start==>\")"
   ]
  },
  {
   "cell_type": "code",
   "execution_count": 9,
   "metadata": {},
   "outputs": [],
   "source": [
    "using Distributed"
   ]
  },
  {
   "cell_type": "code",
   "execution_count": 10,
   "metadata": {},
   "outputs": [
    {
     "data": {
      "text/plain": [
       "3-element Array{String,1}:\n",
       " \"gcr@haz00\"\n",
       " \"gcr@haz11\"\n",
       " \"gcr@haz22\""
      ]
     },
     "execution_count": 10,
     "metadata": {},
     "output_type": "execute_result"
    }
   ],
   "source": [
    "workers = [\"gcr@haz00\", \"gcr@haz11\", \"gcr@haz22\"]"
   ]
  },
  {
   "cell_type": "code",
   "execution_count": 11,
   "metadata": {},
   "outputs": [
    {
     "data": {
      "text/plain": [
       "3-element Array{Int64,1}:\n",
       " 5\n",
       " 6\n",
       " 7"
      ]
     },
     "execution_count": 11,
     "metadata": {},
     "output_type": "execute_result"
    }
   ],
   "source": [
    "addprocs(workers; tunnel=true, exename=`julia`, dir=\"/home/gcr\")"
   ]
  },
  {
   "cell_type": "code",
   "execution_count": 12,
   "metadata": {},
   "outputs": [
    {
     "name": "stdout",
     "output_type": "stream",
     "text": [
      "C02Y50P5JGH7\n",
      "      From worker 2:\thaz00\n",
      "      From worker 4:\thaz22\n",
      "      From worker 3:\thaz11\n",
      "      From worker 7:\thaz22\n",
      "      From worker 6:\thaz11\n",
      "      From worker 5:\thaz00\n"
     ]
    }
   ],
   "source": [
    "@everywhere println(gethostname())"
   ]
  },
  {
   "cell_type": "code",
   "execution_count": 13,
   "metadata": {},
   "outputs": [
    {
     "name": "stdout",
     "output_type": "stream",
     "text": [
      "<==end\n"
     ]
    }
   ],
   "source": [
    "println(\"<==end\")"
   ]
  }
 ],
 "metadata": {
  "kernelspec": {
   "display_name": "Julia 1.5.2",
   "language": "julia",
   "name": "julia-1.5"
  },
  "language_info": {
   "file_extension": ".jl",
   "mimetype": "application/julia",
   "name": "julia",
   "version": "1.5.2"
  }
 },
 "nbformat": 4,
 "nbformat_minor": 4
}
